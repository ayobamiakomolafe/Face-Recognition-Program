{
  "cells": [
    {
      "cell_type": "code",
      "execution_count": null,
      "metadata": {
        "id": "mNzytPuDpykW"
      },
      "outputs": [],
      "source": [
        "!pip install opencv-python\n",
        "!pip install dlib\n",
        "!pip install face_recognition"
      ]
    },
    {
      "cell_type": "code",
      "execution_count": null,
      "metadata": {
        "id": "pxJL7GS-r-rw"
      },
      "outputs": [],
      "source": [
        "from imutils import paths\n",
        "import face_recognition\n",
        "import pickle\n",
        "import cv2\n",
        "import os\n",
        "import pandas as pd"
      ]
    },
    {
      "cell_type": "code",
      "execution_count": null,
      "metadata": {
        "id": "z4-sZnUarpb9"
      },
      "outputs": [],
      "source": [
        "imagePaths = list(paths.list_images('/content/drive/MyDrive/Images'))\n",
        "knownEncodings = []\n",
        "knownNames = []"
      ]
    },
    {
      "cell_type": "code",
      "source": [
        "wrongs=[]\n",
        "for (i, imagePath) in enumerate(imagePaths):\n",
        "    # extract the person name from the image path\n",
        "    name = imagePath.split(os.path.sep)[5]\n",
        "    try:\n",
        "        image= face_recognition.load_image_file(imagePath)\n",
        "        encoding = face_recognition.face_encodings(image)[0]\n",
        "        knownEncodings.append(encoding)\n",
        "        knownNames.append(name)\n",
        "    except:\n",
        "      wrongs.append(name)\n",
        "      continue\n",
        "    \n"
      ],
      "metadata": {
        "id": "6fhJwRMjO-Dm"
      },
      "execution_count": null,
      "outputs": []
    },
    {
      "cell_type": "code",
      "source": [
        "wrongs"
      ],
      "metadata": {
        "id": "nKdeFDI5Ug2y"
      },
      "execution_count": null,
      "outputs": []
    },
    {
      "cell_type": "markdown",
      "source": [
        "Making Predictions"
      ],
      "metadata": {
        "id": "EsWVQg2DYC0r"
      }
    },
    {
      "cell_type": "code",
      "source": [
        "import pandas as pd\n",
        "details=pd.read_csv('/content/drive/MyDrive/main_1.csv')"
      ],
      "metadata": {
        "id": "DSbUc5pJYfZs"
      },
      "execution_count": null,
      "outputs": []
    },
    {
      "cell_type": "code",
      "source": [
        "'image path'\n",
        "unknown_image = face_recognition.load_image_file(\"/content/drive/MyDrive/Images/SCI17CSC015.jpg\")"
      ],
      "metadata": {
        "id": "ccgwCTZcYJQ9"
      },
      "execution_count": null,
      "outputs": []
    },
    {
      "cell_type": "code",
      "source": [
        "face_locations = face_recognition.face_locations(unknown_image)\n",
        "face_encodings = face_recognition.face_encodings(unknown_image, face_locations)[0]"
      ],
      "metadata": {
        "id": "uTzBuFjMO9_t"
      },
      "execution_count": null,
      "outputs": []
    },
    {
      "cell_type": "code",
      "source": [
        "matches = face_recognition.compare_faces(knownEncodings, face_encodings)\n",
        "# Instead, use face_distance to calculate similarities\n",
        "face_distances = face_recognition.face_distance(knownEncodings, face_encodings)\n",
        "import numpy as np\n",
        "best_match_index = np.argmin(face_distances)\n",
        "Matric_No = \"Unknown\"\n",
        "if matches[best_match_index]:\n",
        "  Matric_No= knownNames[best_match_index]\n",
        "  print('Matric_No: '+ Matric_No)\n",
        "  print('Full Name: '+ details.loc[details['Matriculation Number']==Matric_No, 'Full Name'].item())\n",
        "  print('Level: '  +  details.loc[details['Matriculation Number']==Matric_No, 'Level'].item())\n"
      ],
      "metadata": {
        "colab": {
          "base_uri": "https://localhost:8080/"
        },
        "id": "rLwPETmPO99Y",
        "outputId": "9d4cb63e-5943-494b-f5ad-fdeae4f93864"
      },
      "execution_count": null,
      "outputs": [
        {
          "output_type": "stream",
          "name": "stdout",
          "text": [
            "SCI19CSC022.jpg\n"
          ]
        }
      ]
    }
  ],
  "metadata": {
    "colab": {
      "name": "Face Recognition.ipynb",
      "provenance": []
    },
    "kernelspec": {
      "display_name": "Python 3",
      "name": "python3"
    },
    "language_info": {
      "name": "python"
    },
    "accelerator": "GPU"
  },
  "nbformat": 4,
  "nbformat_minor": 0
}